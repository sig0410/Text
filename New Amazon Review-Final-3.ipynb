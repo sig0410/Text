{
 "cells": [
  {
   "cell_type": "code",
   "execution_count": 1,
   "metadata": {},
   "outputs": [
    {
     "name": "stderr",
     "output_type": "stream",
     "text": [
      "Using TensorFlow backend.\n"
     ]
    }
   ],
   "source": [
    "import re\n",
    "import nltk\n",
    "\n",
    "import pandas as pd\n",
    "import numpy as np\n",
    "\n",
    "from bs4 import BeautifulSoup\n",
    "from nltk.corpus import stopwords\n",
    "from nltk.stem.porter import PorterStemmer\n",
    "english_stemmer=nltk.stem.SnowballStemmer('english')\n",
    "\n",
    "from sklearn.feature_selection.univariate_selection import SelectKBest, chi2, f_classif\n",
    "from sklearn.model_selection import train_test_split\n",
    "from sklearn.feature_extraction.text import TfidfVectorizer\n",
    "from sklearn.linear_model import SGDClassifier, SGDRegressor\n",
    "from sklearn.ensemble import RandomForestClassifier, GradientBoostingClassifier\n",
    "from sklearn.naive_bayes import MultinomialNB\n",
    "from sklearn.metrics import accuracy_score, classification_report, confusion_matrix\n",
    "import random\n",
    "import itertools\n",
    "\n",
    "import sys\n",
    "import os\n",
    "import argparse\n",
    "from sklearn.pipeline import Pipeline\n",
    "from scipy.sparse import csr_matrix\n",
    "from sklearn.feature_extraction.text import CountVectorizer\n",
    "import six\n",
    "from abc import ABCMeta\n",
    "from scipy import sparse\n",
    "from scipy.sparse import issparse\n",
    "from sklearn.base import BaseEstimator, ClassifierMixin\n",
    "from sklearn.utils import check_X_y, check_array\n",
    "from sklearn.utils.extmath import safe_sparse_dot\n",
    "from sklearn.preprocessing import normalize, binarize, LabelBinarizer\n",
    "from sklearn.svm import LinearSVC\n",
    "\n",
    "from keras.preprocessing import sequence\n",
    "from keras.utils import np_utils\n",
    "from keras.models import Sequential\n",
    "from keras.layers.core import Dense, Dropout, Activation, Lambda\n",
    "from keras.layers.embeddings import Embedding\n",
    "from keras.layers.recurrent import LSTM, SimpleRNN, GRU\n",
    "from keras.preprocessing.text import Tokenizer\n",
    "from collections import defaultdict\n",
    "from keras.layers.convolutional import Convolution1D\n",
    "from keras import backend as K\n",
    "\n",
    "import seaborn as sns\n",
    "import matplotlib.pyplot as plt\n",
    "from matplotlib import cm\n",
    "%matplotlib inline\n",
    "plt.style.use('ggplot')"
   ]
  },
  {
   "cell_type": "code",
   "execution_count": 184,
   "metadata": {},
   "outputs": [],
   "source": [
    "data_file = './/Amazon_Unlocked_Mobile.csv'\n",
    "n = 413000  \n",
    "s = 3000\n",
    "skip = sorted(random.sample(range(1,n),n-s))\n",
    "\n",
    "\n",
    "df = pd.read_csv( data_file, delimiter = \",\", skiprows = skip)\n",
    "#41만개의 데이터 중 3000개의 데이터만 뽑아서 분석을 진행 "
   ]
  },
  {
   "cell_type": "code",
   "execution_count": 185,
   "metadata": {},
   "outputs": [
    {
     "data": {
      "text/html": [
       "<div>\n",
       "<style scoped>\n",
       "    .dataframe tbody tr th:only-of-type {\n",
       "        vertical-align: middle;\n",
       "    }\n",
       "\n",
       "    .dataframe tbody tr th {\n",
       "        vertical-align: top;\n",
       "    }\n",
       "\n",
       "    .dataframe thead th {\n",
       "        text-align: right;\n",
       "    }\n",
       "</style>\n",
       "<table border=\"1\" class=\"dataframe\">\n",
       "  <thead>\n",
       "    <tr style=\"text-align: right;\">\n",
       "      <th></th>\n",
       "      <th>Product Name</th>\n",
       "      <th>Brand Name</th>\n",
       "      <th>Price</th>\n",
       "      <th>Rating</th>\n",
       "      <th>Reviews</th>\n",
       "      <th>Review Votes</th>\n",
       "    </tr>\n",
       "  </thead>\n",
       "  <tbody>\n",
       "    <tr>\n",
       "      <td>0</td>\n",
       "      <td>[XMAS DEAL] [New Edition] Jethro [SC213V2] Fli...</td>\n",
       "      <td>Jethro</td>\n",
       "      <td>79.99</td>\n",
       "      <td>2</td>\n",
       "      <td>does not work well with T-Mobile. T-Mobile clo...</td>\n",
       "      <td>1.0</td>\n",
       "    </tr>\n",
       "    <tr>\n",
       "      <td>1</td>\n",
       "      <td>10.6'' Inch E-passion Unlocked Smart Phone +Ta...</td>\n",
       "      <td>e passion</td>\n",
       "      <td>99.95</td>\n",
       "      <td>5</td>\n",
       "      <td>Excellent</td>\n",
       "      <td>0.0</td>\n",
       "    </tr>\n",
       "    <tr>\n",
       "      <td>2</td>\n",
       "      <td>4 Inch Touch Screen Cell Phone Unlocked, Andro...</td>\n",
       "      <td>NaN</td>\n",
       "      <td>23.90</td>\n",
       "      <td>5</td>\n",
       "      <td>Better than I expected.</td>\n",
       "      <td>0.0</td>\n",
       "    </tr>\n",
       "    <tr>\n",
       "      <td>3</td>\n",
       "      <td>5.0\" Elephone P6000 MTK6732 64-bit Quad Core 2...</td>\n",
       "      <td>Elephone</td>\n",
       "      <td>161.06</td>\n",
       "      <td>5</td>\n",
       "      <td>It's spectacular. This phone hace a good perfo...</td>\n",
       "      <td>2.0</td>\n",
       "    </tr>\n",
       "    <tr>\n",
       "      <td>4</td>\n",
       "      <td>5.5\" HD Display Unlocked Android Smartphones 4...</td>\n",
       "      <td>Plum</td>\n",
       "      <td>99.99</td>\n",
       "      <td>1</td>\n",
       "      <td>Phone is cheap...only had it for 3-5 months n ...</td>\n",
       "      <td>0.0</td>\n",
       "    </tr>\n",
       "    <tr>\n",
       "      <td>...</td>\n",
       "      <td>...</td>\n",
       "      <td>...</td>\n",
       "      <td>...</td>\n",
       "      <td>...</td>\n",
       "      <td>...</td>\n",
       "      <td>...</td>\n",
       "    </tr>\n",
       "    <tr>\n",
       "      <td>3835</td>\n",
       "      <td>Samsung Convoy U640 Phone for Verizon Wireless...</td>\n",
       "      <td>Samsung</td>\n",
       "      <td>79.95</td>\n",
       "      <td>5</td>\n",
       "      <td>another great deal great price</td>\n",
       "      <td>0.0</td>\n",
       "    </tr>\n",
       "    <tr>\n",
       "      <td>3836</td>\n",
       "      <td>Samsung Convoy U640 Phone for Verizon Wireless...</td>\n",
       "      <td>Samsung</td>\n",
       "      <td>79.95</td>\n",
       "      <td>3</td>\n",
       "      <td>Ok</td>\n",
       "      <td>0.0</td>\n",
       "    </tr>\n",
       "    <tr>\n",
       "      <td>3837</td>\n",
       "      <td>Samsung Convoy U640 Phone for Verizon Wireless...</td>\n",
       "      <td>Samsung</td>\n",
       "      <td>79.95</td>\n",
       "      <td>5</td>\n",
       "      <td>Passes every drop test onto porcelain tile!</td>\n",
       "      <td>0.0</td>\n",
       "    </tr>\n",
       "    <tr>\n",
       "      <td>3838</td>\n",
       "      <td>Samsung Convoy U640 Phone for Verizon Wireless...</td>\n",
       "      <td>Samsung</td>\n",
       "      <td>79.95</td>\n",
       "      <td>3</td>\n",
       "      <td>I returned it because it did not meet my needs...</td>\n",
       "      <td>0.0</td>\n",
       "    </tr>\n",
       "    <tr>\n",
       "      <td>3839</td>\n",
       "      <td>Samsung Convoy U640 Phone for Verizon Wireless...</td>\n",
       "      <td>Samsung</td>\n",
       "      <td>79.95</td>\n",
       "      <td>4</td>\n",
       "      <td>Only downside is that apparently Verizon no lo...</td>\n",
       "      <td>0.0</td>\n",
       "    </tr>\n",
       "  </tbody>\n",
       "</table>\n",
       "<p>3840 rows × 6 columns</p>\n",
       "</div>"
      ],
      "text/plain": [
       "                                           Product Name Brand Name   Price  \\\n",
       "0     [XMAS DEAL] [New Edition] Jethro [SC213V2] Fli...     Jethro   79.99   \n",
       "1     10.6'' Inch E-passion Unlocked Smart Phone +Ta...  e passion   99.95   \n",
       "2     4 Inch Touch Screen Cell Phone Unlocked, Andro...        NaN   23.90   \n",
       "3     5.0\" Elephone P6000 MTK6732 64-bit Quad Core 2...   Elephone  161.06   \n",
       "4     5.5\" HD Display Unlocked Android Smartphones 4...       Plum   99.99   \n",
       "...                                                 ...        ...     ...   \n",
       "3835  Samsung Convoy U640 Phone for Verizon Wireless...    Samsung   79.95   \n",
       "3836  Samsung Convoy U640 Phone for Verizon Wireless...    Samsung   79.95   \n",
       "3837  Samsung Convoy U640 Phone for Verizon Wireless...    Samsung   79.95   \n",
       "3838  Samsung Convoy U640 Phone for Verizon Wireless...    Samsung   79.95   \n",
       "3839  Samsung Convoy U640 Phone for Verizon Wireless...    Samsung   79.95   \n",
       "\n",
       "      Rating                                            Reviews  Review Votes  \n",
       "0          2  does not work well with T-Mobile. T-Mobile clo...           1.0  \n",
       "1          5                                          Excellent           0.0  \n",
       "2          5                            Better than I expected.           0.0  \n",
       "3          5  It's spectacular. This phone hace a good perfo...           2.0  \n",
       "4          1  Phone is cheap...only had it for 3-5 months n ...           0.0  \n",
       "...      ...                                                ...           ...  \n",
       "3835       5                     another great deal great price           0.0  \n",
       "3836       3                                                 Ok           0.0  \n",
       "3837       5        Passes every drop test onto porcelain tile!           0.0  \n",
       "3838       3  I returned it because it did not meet my needs...           0.0  \n",
       "3839       4  Only downside is that apparently Verizon no lo...           0.0  \n",
       "\n",
       "[3840 rows x 6 columns]"
      ]
     },
     "execution_count": 185,
     "metadata": {},
     "output_type": "execute_result"
    }
   ],
   "source": [
    "df"
   ]
  },
  {
   "cell_type": "code",
   "execution_count": 186,
   "metadata": {
    "scrolled": true
   },
   "outputs": [
    {
     "data": {
      "text/plain": [
       "Product Name      0\n",
       "Brand Name      508\n",
       "Price            45\n",
       "Rating            0\n",
       "Reviews           1\n",
       "Review Votes     99\n",
       "dtype: int64"
      ]
     },
     "execution_count": 186,
     "metadata": {},
     "output_type": "execute_result"
    }
   ],
   "source": [
    "df.isnull().sum()"
   ]
  },
  {
   "cell_type": "code",
   "execution_count": 187,
   "metadata": {},
   "outputs": [],
   "source": [
    "df = df.dropna()"
   ]
  },
  {
   "cell_type": "code",
   "execution_count": 188,
   "metadata": {
    "scrolled": true
   },
   "outputs": [
    {
     "data": {
      "text/plain": [
       "Product Name    0\n",
       "Brand Name      0\n",
       "Price           0\n",
       "Rating          0\n",
       "Reviews         0\n",
       "Review Votes    0\n",
       "dtype: int64"
      ]
     },
     "execution_count": 188,
     "metadata": {},
     "output_type": "execute_result"
    }
   ],
   "source": [
    "df.isnull().sum()"
   ]
  },
  {
   "cell_type": "code",
   "execution_count": 189,
   "metadata": {},
   "outputs": [
    {
     "data": {
      "text/html": [
       "<div>\n",
       "<style scoped>\n",
       "    .dataframe tbody tr th:only-of-type {\n",
       "        vertical-align: middle;\n",
       "    }\n",
       "\n",
       "    .dataframe tbody tr th {\n",
       "        vertical-align: top;\n",
       "    }\n",
       "\n",
       "    .dataframe thead th {\n",
       "        text-align: right;\n",
       "    }\n",
       "</style>\n",
       "<table border=\"1\" class=\"dataframe\">\n",
       "  <thead>\n",
       "    <tr style=\"text-align: right;\">\n",
       "      <th></th>\n",
       "      <th>Product Name</th>\n",
       "      <th>Brand Name</th>\n",
       "      <th>Price</th>\n",
       "      <th>Rating</th>\n",
       "      <th>Reviews</th>\n",
       "      <th>Review Votes</th>\n",
       "    </tr>\n",
       "  </thead>\n",
       "  <tbody>\n",
       "    <tr>\n",
       "      <td>0</td>\n",
       "      <td>[XMAS DEAL] [New Edition] Jethro [SC213V2] Fli...</td>\n",
       "      <td>Jethro</td>\n",
       "      <td>79.99</td>\n",
       "      <td>2</td>\n",
       "      <td>does not work well with T-Mobile. T-Mobile clo...</td>\n",
       "      <td>1.0</td>\n",
       "    </tr>\n",
       "    <tr>\n",
       "      <td>1</td>\n",
       "      <td>10.6'' Inch E-passion Unlocked Smart Phone +Ta...</td>\n",
       "      <td>e passion</td>\n",
       "      <td>99.95</td>\n",
       "      <td>5</td>\n",
       "      <td>Excellent</td>\n",
       "      <td>0.0</td>\n",
       "    </tr>\n",
       "    <tr>\n",
       "      <td>3</td>\n",
       "      <td>5.0\" Elephone P6000 MTK6732 64-bit Quad Core 2...</td>\n",
       "      <td>Elephone</td>\n",
       "      <td>161.06</td>\n",
       "      <td>5</td>\n",
       "      <td>It's spectacular. This phone hace a good perfo...</td>\n",
       "      <td>2.0</td>\n",
       "    </tr>\n",
       "    <tr>\n",
       "      <td>4</td>\n",
       "      <td>5.5\" HD Display Unlocked Android Smartphones 4...</td>\n",
       "      <td>Plum</td>\n",
       "      <td>99.99</td>\n",
       "      <td>1</td>\n",
       "      <td>Phone is cheap...only had it for 3-5 months n ...</td>\n",
       "      <td>0.0</td>\n",
       "    </tr>\n",
       "    <tr>\n",
       "      <td>12</td>\n",
       "      <td>6.0\" FWVGA Screen MTK6577 Dual Core 1.2GHz And...</td>\n",
       "      <td>Ulefone</td>\n",
       "      <td>69.99</td>\n",
       "      <td>3</td>\n",
       "      <td>The phone ring volume is so low even on high a...</td>\n",
       "      <td>0.0</td>\n",
       "    </tr>\n",
       "    <tr>\n",
       "      <td>...</td>\n",
       "      <td>...</td>\n",
       "      <td>...</td>\n",
       "      <td>...</td>\n",
       "      <td>...</td>\n",
       "      <td>...</td>\n",
       "      <td>...</td>\n",
       "    </tr>\n",
       "    <tr>\n",
       "      <td>3835</td>\n",
       "      <td>Samsung Convoy U640 Phone for Verizon Wireless...</td>\n",
       "      <td>Samsung</td>\n",
       "      <td>79.95</td>\n",
       "      <td>5</td>\n",
       "      <td>another great deal great price</td>\n",
       "      <td>0.0</td>\n",
       "    </tr>\n",
       "    <tr>\n",
       "      <td>3836</td>\n",
       "      <td>Samsung Convoy U640 Phone for Verizon Wireless...</td>\n",
       "      <td>Samsung</td>\n",
       "      <td>79.95</td>\n",
       "      <td>3</td>\n",
       "      <td>Ok</td>\n",
       "      <td>0.0</td>\n",
       "    </tr>\n",
       "    <tr>\n",
       "      <td>3837</td>\n",
       "      <td>Samsung Convoy U640 Phone for Verizon Wireless...</td>\n",
       "      <td>Samsung</td>\n",
       "      <td>79.95</td>\n",
       "      <td>5</td>\n",
       "      <td>Passes every drop test onto porcelain tile!</td>\n",
       "      <td>0.0</td>\n",
       "    </tr>\n",
       "    <tr>\n",
       "      <td>3838</td>\n",
       "      <td>Samsung Convoy U640 Phone for Verizon Wireless...</td>\n",
       "      <td>Samsung</td>\n",
       "      <td>79.95</td>\n",
       "      <td>3</td>\n",
       "      <td>I returned it because it did not meet my needs...</td>\n",
       "      <td>0.0</td>\n",
       "    </tr>\n",
       "    <tr>\n",
       "      <td>3839</td>\n",
       "      <td>Samsung Convoy U640 Phone for Verizon Wireless...</td>\n",
       "      <td>Samsung</td>\n",
       "      <td>79.95</td>\n",
       "      <td>4</td>\n",
       "      <td>Only downside is that apparently Verizon no lo...</td>\n",
       "      <td>0.0</td>\n",
       "    </tr>\n",
       "  </tbody>\n",
       "</table>\n",
       "<p>3222 rows × 6 columns</p>\n",
       "</div>"
      ],
      "text/plain": [
       "                                           Product Name Brand Name   Price  \\\n",
       "0     [XMAS DEAL] [New Edition] Jethro [SC213V2] Fli...     Jethro   79.99   \n",
       "1     10.6'' Inch E-passion Unlocked Smart Phone +Ta...  e passion   99.95   \n",
       "3     5.0\" Elephone P6000 MTK6732 64-bit Quad Core 2...   Elephone  161.06   \n",
       "4     5.5\" HD Display Unlocked Android Smartphones 4...       Plum   99.99   \n",
       "12    6.0\" FWVGA Screen MTK6577 Dual Core 1.2GHz And...    Ulefone   69.99   \n",
       "...                                                 ...        ...     ...   \n",
       "3835  Samsung Convoy U640 Phone for Verizon Wireless...    Samsung   79.95   \n",
       "3836  Samsung Convoy U640 Phone for Verizon Wireless...    Samsung   79.95   \n",
       "3837  Samsung Convoy U640 Phone for Verizon Wireless...    Samsung   79.95   \n",
       "3838  Samsung Convoy U640 Phone for Verizon Wireless...    Samsung   79.95   \n",
       "3839  Samsung Convoy U640 Phone for Verizon Wireless...    Samsung   79.95   \n",
       "\n",
       "      Rating                                            Reviews  Review Votes  \n",
       "0          2  does not work well with T-Mobile. T-Mobile clo...           1.0  \n",
       "1          5                                          Excellent           0.0  \n",
       "3          5  It's spectacular. This phone hace a good perfo...           2.0  \n",
       "4          1  Phone is cheap...only had it for 3-5 months n ...           0.0  \n",
       "12         3  The phone ring volume is so low even on high a...           0.0  \n",
       "...      ...                                                ...           ...  \n",
       "3835       5                     another great deal great price           0.0  \n",
       "3836       3                                                 Ok           0.0  \n",
       "3837       5        Passes every drop test onto porcelain tile!           0.0  \n",
       "3838       3  I returned it because it did not meet my needs...           0.0  \n",
       "3839       4  Only downside is that apparently Verizon no lo...           0.0  \n",
       "\n",
       "[3222 rows x 6 columns]"
      ]
     },
     "execution_count": 189,
     "metadata": {},
     "output_type": "execute_result"
    }
   ],
   "source": [
    "df\n",
    "#결측치들을 제거하니 41만개의 데이터에서 33만개의 데이터로 축소되었음\n",
    "#아마 하나의 row에 결측치가 한개라도 존재하면 해당 row를 제거하는 방법을 수행했을것으로 예상 "
   ]
  },
  {
   "cell_type": "markdown",
   "metadata": {},
   "source": [
    "### Rating Mapping"
   ]
  },
  {
   "cell_type": "code",
   "execution_count": 190,
   "metadata": {},
   "outputs": [
    {
     "data": {
      "text/plain": [
       "{0: '0', 1: '0', 2: '0', 3: '0', 4: '1', 5: '1'}"
      ]
     },
     "execution_count": 190,
     "metadata": {},
     "output_type": "execute_result"
    }
   ],
   "source": [
    "Review_mapping =  {0: '0',1 : '0', 2 :'0',3 : '0', 4 : '1', 5 : '1'}\n",
    "Review_mapping\n",
    "#0~3점까지는 0으로 4~5점까지는 1로 맵핑 "
   ]
  },
  {
   "cell_type": "code",
   "execution_count": 191,
   "metadata": {},
   "outputs": [
    {
     "name": "stderr",
     "output_type": "stream",
     "text": [
      "/Users/Moon/opt/anaconda3/lib/python3.7/site-packages/ipykernel_launcher.py:2: SettingWithCopyWarning: \n",
      "A value is trying to be set on a copy of a slice from a DataFrame.\n",
      "Try using .loc[row_indexer,col_indexer] = value instead\n",
      "\n",
      "See the caveats in the documentation: http://pandas.pydata.org/pandas-docs/stable/user_guide/indexing.html#returning-a-view-versus-a-copy\n",
      "  \n"
     ]
    }
   ],
   "source": [
    "Rating = lambda x: Review_mapping.get(x,x)\n",
    "df['Rating']=df.Rating.map(Rating)"
   ]
  },
  {
   "cell_type": "code",
   "execution_count": 192,
   "metadata": {
    "scrolled": true
   },
   "outputs": [
    {
     "data": {
      "text/plain": [
       "array(['0', '1'], dtype=object)"
      ]
     },
     "execution_count": 192,
     "metadata": {},
     "output_type": "execute_result"
    }
   ],
   "source": [
    "df['Rating'].unique()"
   ]
  },
  {
   "cell_type": "code",
   "execution_count": 193,
   "metadata": {},
   "outputs": [
    {
     "data": {
      "text/html": [
       "<div>\n",
       "<style scoped>\n",
       "    .dataframe tbody tr th:only-of-type {\n",
       "        vertical-align: middle;\n",
       "    }\n",
       "\n",
       "    .dataframe tbody tr th {\n",
       "        vertical-align: top;\n",
       "    }\n",
       "\n",
       "    .dataframe thead th {\n",
       "        text-align: right;\n",
       "    }\n",
       "</style>\n",
       "<table border=\"1\" class=\"dataframe\">\n",
       "  <thead>\n",
       "    <tr style=\"text-align: right;\">\n",
       "      <th></th>\n",
       "      <th>Product Name</th>\n",
       "      <th>Brand Name</th>\n",
       "      <th>Price</th>\n",
       "      <th>Rating</th>\n",
       "      <th>Reviews</th>\n",
       "      <th>Review Votes</th>\n",
       "    </tr>\n",
       "  </thead>\n",
       "  <tbody>\n",
       "    <tr>\n",
       "      <td>0</td>\n",
       "      <td>[XMAS DEAL] [New Edition] Jethro [SC213V2] Fli...</td>\n",
       "      <td>Jethro</td>\n",
       "      <td>79.99</td>\n",
       "      <td>0</td>\n",
       "      <td>does not work well with T-Mobile. T-Mobile clo...</td>\n",
       "      <td>1.0</td>\n",
       "    </tr>\n",
       "    <tr>\n",
       "      <td>1</td>\n",
       "      <td>10.6'' Inch E-passion Unlocked Smart Phone +Ta...</td>\n",
       "      <td>e passion</td>\n",
       "      <td>99.95</td>\n",
       "      <td>1</td>\n",
       "      <td>Excellent</td>\n",
       "      <td>0.0</td>\n",
       "    </tr>\n",
       "    <tr>\n",
       "      <td>3</td>\n",
       "      <td>5.0\" Elephone P6000 MTK6732 64-bit Quad Core 2...</td>\n",
       "      <td>Elephone</td>\n",
       "      <td>161.06</td>\n",
       "      <td>1</td>\n",
       "      <td>It's spectacular. This phone hace a good perfo...</td>\n",
       "      <td>2.0</td>\n",
       "    </tr>\n",
       "    <tr>\n",
       "      <td>4</td>\n",
       "      <td>5.5\" HD Display Unlocked Android Smartphones 4...</td>\n",
       "      <td>Plum</td>\n",
       "      <td>99.99</td>\n",
       "      <td>0</td>\n",
       "      <td>Phone is cheap...only had it for 3-5 months n ...</td>\n",
       "      <td>0.0</td>\n",
       "    </tr>\n",
       "    <tr>\n",
       "      <td>12</td>\n",
       "      <td>6.0\" FWVGA Screen MTK6577 Dual Core 1.2GHz And...</td>\n",
       "      <td>Ulefone</td>\n",
       "      <td>69.99</td>\n",
       "      <td>0</td>\n",
       "      <td>The phone ring volume is so low even on high a...</td>\n",
       "      <td>0.0</td>\n",
       "    </tr>\n",
       "    <tr>\n",
       "      <td>...</td>\n",
       "      <td>...</td>\n",
       "      <td>...</td>\n",
       "      <td>...</td>\n",
       "      <td>...</td>\n",
       "      <td>...</td>\n",
       "      <td>...</td>\n",
       "    </tr>\n",
       "    <tr>\n",
       "      <td>3835</td>\n",
       "      <td>Samsung Convoy U640 Phone for Verizon Wireless...</td>\n",
       "      <td>Samsung</td>\n",
       "      <td>79.95</td>\n",
       "      <td>1</td>\n",
       "      <td>another great deal great price</td>\n",
       "      <td>0.0</td>\n",
       "    </tr>\n",
       "    <tr>\n",
       "      <td>3836</td>\n",
       "      <td>Samsung Convoy U640 Phone for Verizon Wireless...</td>\n",
       "      <td>Samsung</td>\n",
       "      <td>79.95</td>\n",
       "      <td>0</td>\n",
       "      <td>Ok</td>\n",
       "      <td>0.0</td>\n",
       "    </tr>\n",
       "    <tr>\n",
       "      <td>3837</td>\n",
       "      <td>Samsung Convoy U640 Phone for Verizon Wireless...</td>\n",
       "      <td>Samsung</td>\n",
       "      <td>79.95</td>\n",
       "      <td>1</td>\n",
       "      <td>Passes every drop test onto porcelain tile!</td>\n",
       "      <td>0.0</td>\n",
       "    </tr>\n",
       "    <tr>\n",
       "      <td>3838</td>\n",
       "      <td>Samsung Convoy U640 Phone for Verizon Wireless...</td>\n",
       "      <td>Samsung</td>\n",
       "      <td>79.95</td>\n",
       "      <td>0</td>\n",
       "      <td>I returned it because it did not meet my needs...</td>\n",
       "      <td>0.0</td>\n",
       "    </tr>\n",
       "    <tr>\n",
       "      <td>3839</td>\n",
       "      <td>Samsung Convoy U640 Phone for Verizon Wireless...</td>\n",
       "      <td>Samsung</td>\n",
       "      <td>79.95</td>\n",
       "      <td>1</td>\n",
       "      <td>Only downside is that apparently Verizon no lo...</td>\n",
       "      <td>0.0</td>\n",
       "    </tr>\n",
       "  </tbody>\n",
       "</table>\n",
       "<p>3222 rows × 6 columns</p>\n",
       "</div>"
      ],
      "text/plain": [
       "                                           Product Name Brand Name   Price  \\\n",
       "0     [XMAS DEAL] [New Edition] Jethro [SC213V2] Fli...     Jethro   79.99   \n",
       "1     10.6'' Inch E-passion Unlocked Smart Phone +Ta...  e passion   99.95   \n",
       "3     5.0\" Elephone P6000 MTK6732 64-bit Quad Core 2...   Elephone  161.06   \n",
       "4     5.5\" HD Display Unlocked Android Smartphones 4...       Plum   99.99   \n",
       "12    6.0\" FWVGA Screen MTK6577 Dual Core 1.2GHz And...    Ulefone   69.99   \n",
       "...                                                 ...        ...     ...   \n",
       "3835  Samsung Convoy U640 Phone for Verizon Wireless...    Samsung   79.95   \n",
       "3836  Samsung Convoy U640 Phone for Verizon Wireless...    Samsung   79.95   \n",
       "3837  Samsung Convoy U640 Phone for Verizon Wireless...    Samsung   79.95   \n",
       "3838  Samsung Convoy U640 Phone for Verizon Wireless...    Samsung   79.95   \n",
       "3839  Samsung Convoy U640 Phone for Verizon Wireless...    Samsung   79.95   \n",
       "\n",
       "     Rating                                            Reviews  Review Votes  \n",
       "0         0  does not work well with T-Mobile. T-Mobile clo...           1.0  \n",
       "1         1                                          Excellent           0.0  \n",
       "3         1  It's spectacular. This phone hace a good perfo...           2.0  \n",
       "4         0  Phone is cheap...only had it for 3-5 months n ...           0.0  \n",
       "12        0  The phone ring volume is so low even on high a...           0.0  \n",
       "...     ...                                                ...           ...  \n",
       "3835      1                     another great deal great price           0.0  \n",
       "3836      0                                                 Ok           0.0  \n",
       "3837      1        Passes every drop test onto porcelain tile!           0.0  \n",
       "3838      0  I returned it because it did not meet my needs...           0.0  \n",
       "3839      1  Only downside is that apparently Verizon no lo...           0.0  \n",
       "\n",
       "[3222 rows x 6 columns]"
      ]
     },
     "execution_count": 193,
     "metadata": {},
     "output_type": "execute_result"
    }
   ],
   "source": [
    "df\n",
    "#rating이 잘변환된것을 확인할 수 있다."
   ]
  },
  {
   "cell_type": "markdown",
   "metadata": {},
   "source": [
    "### 텍스트 데이터 분리"
   ]
  },
  {
   "cell_type": "code",
   "execution_count": 194,
   "metadata": {
    "scrolled": true
   },
   "outputs": [
    {
     "data": {
      "text/plain": [
       "Index(['Product Name', 'Brand Name', 'Price', 'Rating', 'Reviews',\n",
       "       'Review Votes'],\n",
       "      dtype='object')"
      ]
     },
     "execution_count": 194,
     "metadata": {},
     "output_type": "execute_result"
    }
   ],
   "source": [
    "df.columns"
   ]
  },
  {
   "cell_type": "code",
   "execution_count": 195,
   "metadata": {},
   "outputs": [
    {
     "name": "stdout",
     "output_type": "stream",
     "text": [
      "0       0\n",
      "1       1\n",
      "3       1\n",
      "4       0\n",
      "12      0\n",
      "       ..\n",
      "3835    1\n",
      "3836    0\n",
      "3837    1\n",
      "3838    0\n",
      "3839    1\n",
      "Name: Rating, Length: 3222, dtype: object\n"
     ]
    },
    {
     "data": {
      "text/plain": [
       "0       0\n",
       "1       1\n",
       "3       1\n",
       "4       0\n",
       "12      0\n",
       "       ..\n",
       "3835    1\n",
       "3836    0\n",
       "3837    1\n",
       "3838    0\n",
       "3839    1\n",
       "Name: Rating, Length: 3222, dtype: int64"
      ]
     },
     "execution_count": 195,
     "metadata": {},
     "output_type": "execute_result"
    }
   ],
   "source": [
    "a = df.iloc[:,3]\n",
    "print(a)\n",
    "# a는 평점\n",
    "a.astype('int64')\n",
    "#맵핑을 한 rating이 object로 되어있어 int로 변환을 하였음 "
   ]
  },
  {
   "cell_type": "code",
   "execution_count": 196,
   "metadata": {},
   "outputs": [],
   "source": [
    "b = df.iloc[:,4]\n",
    "# b는 리뷰데이터(텍스트)"
   ]
  },
  {
   "cell_type": "code",
   "execution_count": 197,
   "metadata": {},
   "outputs": [],
   "source": [
    "doc = pd.concat([a,b], axis = 1)\n",
    "#기존의 데이터에서 rating과 review로 구성된 새로운 데이터셋을 구성 "
   ]
  },
  {
   "cell_type": "markdown",
   "metadata": {},
   "source": [
    "### Text Cleaning"
   ]
  },
  {
   "cell_type": "code",
   "execution_count": 198,
   "metadata": {},
   "outputs": [],
   "source": [
    "def review_to_wordlist(review, remove_stopwords = True):\n",
    "\n",
    "    \n",
    "    review_text = re.sub('[^a-zA-Z]',\" \", review)\n",
    "    #review_text에 영어만 넣기 \n",
    "    \n",
    "    words = review_text.lower().split()\n",
    "    #소문자로 바꿔주고 그것들을 분리해준다 \n",
    "    \n",
    "    if remove_stopwords:\n",
    "        stops = set(stopwords.words('english'))\n",
    "        words = [w for w in words if not w in stops]\n",
    "        #stops에 영어의 불용어를 넣어줌 \n",
    "        #words는 소문자로 변환되고 띄어져있는 것이며 \n",
    "        #stops에 있는 불용어를 제외하고 넣어줌 \n",
    "        \n",
    "    b = []\n",
    "    stemmer = english_stemmer\n",
    "    for word in words:\n",
    "        b.append(stemmer.stem(word))\n",
    "        #words에 전처리된것들의 어간들만 추출 \n",
    "        \n",
    "    return(b)\n"
   ]
  },
  {
   "cell_type": "code",
   "execution_count": 199,
   "metadata": {},
   "outputs": [],
   "source": [
    "clean_reviews = []\n",
    "for review in doc['Reviews']:\n",
    "    clean_reviews.append( \" \".join(review_to_wordlist(review)))"
   ]
  },
  {
   "cell_type": "code",
   "execution_count": 200,
   "metadata": {},
   "outputs": [
    {
     "data": {
      "text/plain": [
       "3222"
      ]
     },
     "execution_count": 200,
     "metadata": {},
     "output_type": "execute_result"
    }
   ],
   "source": [
    "len(clean_reviews)\n",
    "#각 row마다 텍스트 전처리가 잘된것을 확인 "
   ]
  },
  {
   "cell_type": "code",
   "execution_count": 202,
   "metadata": {},
   "outputs": [],
   "source": [
    "clean_reviews = pd.DataFrame(clean_reviews)"
   ]
  },
  {
   "cell_type": "code",
   "execution_count": 203,
   "metadata": {
    "scrolled": true
   },
   "outputs": [
    {
     "data": {
      "text/html": [
       "<div>\n",
       "<style scoped>\n",
       "    .dataframe tbody tr th:only-of-type {\n",
       "        vertical-align: middle;\n",
       "    }\n",
       "\n",
       "    .dataframe tbody tr th {\n",
       "        vertical-align: top;\n",
       "    }\n",
       "\n",
       "    .dataframe thead th {\n",
       "        text-align: right;\n",
       "    }\n",
       "</style>\n",
       "<table border=\"1\" class=\"dataframe\">\n",
       "  <thead>\n",
       "    <tr style=\"text-align: right;\">\n",
       "      <th></th>\n",
       "      <th>Reviews</th>\n",
       "    </tr>\n",
       "  </thead>\n",
       "  <tbody>\n",
       "    <tr>\n",
       "      <td>0</td>\n",
       "      <td>work well mobil mobil close tower non mobil phone</td>\n",
       "    </tr>\n",
       "    <tr>\n",
       "      <td>1</td>\n",
       "      <td>excel</td>\n",
       "    </tr>\n",
       "    <tr>\n",
       "      <td>2</td>\n",
       "      <td>spectacular phone hace good perfom like mucho ...</td>\n",
       "    </tr>\n",
       "    <tr>\n",
       "      <td>3</td>\n",
       "      <td>phone cheap month n alreadi stop work could do...</td>\n",
       "    </tr>\n",
       "    <tr>\n",
       "      <td>4</td>\n",
       "      <td>phone ring volum low even high case fit phone ...</td>\n",
       "    </tr>\n",
       "    <tr>\n",
       "      <td>...</td>\n",
       "      <td>...</td>\n",
       "    </tr>\n",
       "    <tr>\n",
       "      <td>3217</td>\n",
       "      <td>anoth great deal great price</td>\n",
       "    </tr>\n",
       "    <tr>\n",
       "      <td>3218</td>\n",
       "      <td>ok</td>\n",
       "    </tr>\n",
       "    <tr>\n",
       "      <td>3219</td>\n",
       "      <td>pass everi drop test onto porcelain tile</td>\n",
       "    </tr>\n",
       "    <tr>\n",
       "      <td>3220</td>\n",
       "      <td>return meet need seem good select other</td>\n",
       "    </tr>\n",
       "    <tr>\n",
       "      <td>3221</td>\n",
       "      <td>downsid appar verizon longer use v cast music ...</td>\n",
       "    </tr>\n",
       "  </tbody>\n",
       "</table>\n",
       "<p>3222 rows × 1 columns</p>\n",
       "</div>"
      ],
      "text/plain": [
       "                                                Reviews\n",
       "0     work well mobil mobil close tower non mobil phone\n",
       "1                                                 excel\n",
       "2     spectacular phone hace good perfom like mucho ...\n",
       "3     phone cheap month n alreadi stop work could do...\n",
       "4     phone ring volum low even high case fit phone ...\n",
       "...                                                 ...\n",
       "3217                       anoth great deal great price\n",
       "3218                                                 ok\n",
       "3219           pass everi drop test onto porcelain tile\n",
       "3220            return meet need seem good select other\n",
       "3221  downsid appar verizon longer use v cast music ...\n",
       "\n",
       "[3222 rows x 1 columns]"
      ]
     },
     "execution_count": 203,
     "metadata": {},
     "output_type": "execute_result"
    }
   ],
   "source": [
    "clean_reviews.columns = ['Reviews']\n",
    "clean_reviews\n",
    "#컬럼명을 Reviews로 설정 "
   ]
  },
  {
   "cell_type": "code",
   "execution_count": 204,
   "metadata": {
    "scrolled": true
   },
   "outputs": [
    {
     "data": {
      "text/plain": [
       "Reviews    602\n",
       "Rating     602\n",
       "dtype: int64"
      ]
     },
     "execution_count": 204,
     "metadata": {},
     "output_type": "execute_result"
    }
   ],
   "source": [
    "df = pd.concat([clean_reviews, doc['Rating']], axis = 1)\n",
    "df.isnull().sum()\n",
    "#무작정 concat을 사용했기때문에 결측값이 발생 \n",
    "#index를 맞춰주지않아 문제가 발생한 것으로 보인다."
   ]
  },
  {
   "cell_type": "code",
   "execution_count": 205,
   "metadata": {
    "scrolled": true
   },
   "outputs": [
    {
     "data": {
      "text/html": [
       "<div>\n",
       "<style scoped>\n",
       "    .dataframe tbody tr th:only-of-type {\n",
       "        vertical-align: middle;\n",
       "    }\n",
       "\n",
       "    .dataframe tbody tr th {\n",
       "        vertical-align: top;\n",
       "    }\n",
       "\n",
       "    .dataframe thead th {\n",
       "        text-align: right;\n",
       "    }\n",
       "</style>\n",
       "<table border=\"1\" class=\"dataframe\">\n",
       "  <thead>\n",
       "    <tr style=\"text-align: right;\">\n",
       "      <th></th>\n",
       "      <th>Reviews</th>\n",
       "    </tr>\n",
       "  </thead>\n",
       "  <tbody>\n",
       "    <tr>\n",
       "      <td>0</td>\n",
       "      <td>work well mobil mobil close tower non mobil phone</td>\n",
       "    </tr>\n",
       "    <tr>\n",
       "      <td>1</td>\n",
       "      <td>excel</td>\n",
       "    </tr>\n",
       "    <tr>\n",
       "      <td>2</td>\n",
       "      <td>spectacular phone hace good perfom like mucho ...</td>\n",
       "    </tr>\n",
       "    <tr>\n",
       "      <td>3</td>\n",
       "      <td>phone cheap month n alreadi stop work could do...</td>\n",
       "    </tr>\n",
       "    <tr>\n",
       "      <td>4</td>\n",
       "      <td>phone ring volum low even high case fit phone ...</td>\n",
       "    </tr>\n",
       "    <tr>\n",
       "      <td>...</td>\n",
       "      <td>...</td>\n",
       "    </tr>\n",
       "    <tr>\n",
       "      <td>3217</td>\n",
       "      <td>anoth great deal great price</td>\n",
       "    </tr>\n",
       "    <tr>\n",
       "      <td>3218</td>\n",
       "      <td>ok</td>\n",
       "    </tr>\n",
       "    <tr>\n",
       "      <td>3219</td>\n",
       "      <td>pass everi drop test onto porcelain tile</td>\n",
       "    </tr>\n",
       "    <tr>\n",
       "      <td>3220</td>\n",
       "      <td>return meet need seem good select other</td>\n",
       "    </tr>\n",
       "    <tr>\n",
       "      <td>3221</td>\n",
       "      <td>downsid appar verizon longer use v cast music ...</td>\n",
       "    </tr>\n",
       "  </tbody>\n",
       "</table>\n",
       "<p>3222 rows × 1 columns</p>\n",
       "</div>"
      ],
      "text/plain": [
       "                                                Reviews\n",
       "0     work well mobil mobil close tower non mobil phone\n",
       "1                                                 excel\n",
       "2     spectacular phone hace good perfom like mucho ...\n",
       "3     phone cheap month n alreadi stop work could do...\n",
       "4     phone ring volum low even high case fit phone ...\n",
       "...                                                 ...\n",
       "3217                       anoth great deal great price\n",
       "3218                                                 ok\n",
       "3219           pass everi drop test onto porcelain tile\n",
       "3220            return meet need seem good select other\n",
       "3221  downsid appar verizon longer use v cast music ...\n",
       "\n",
       "[3222 rows x 1 columns]"
      ]
     },
     "execution_count": 205,
     "metadata": {},
     "output_type": "execute_result"
    }
   ],
   "source": [
    "clean_reviews.reset_index(drop=True , inplace=True)\n",
    "clean_reviews\n",
    "#인덱스를 초기화해줌 "
   ]
  },
  {
   "cell_type": "code",
   "execution_count": 206,
   "metadata": {},
   "outputs": [],
   "source": [
    "b = doc['Rating']"
   ]
  },
  {
   "cell_type": "code",
   "execution_count": 207,
   "metadata": {},
   "outputs": [
    {
     "data": {
      "text/plain": [
       "0       0\n",
       "1       1\n",
       "2       1\n",
       "3       0\n",
       "4       0\n",
       "       ..\n",
       "3217    1\n",
       "3218    0\n",
       "3219    1\n",
       "3220    0\n",
       "3221    1\n",
       "Name: Rating, Length: 3222, dtype: object"
      ]
     },
     "execution_count": 207,
     "metadata": {},
     "output_type": "execute_result"
    }
   ],
   "source": [
    "b.reset_index(drop = True, inplace = True)\n",
    "b\n",
    "#rating의 인덱스를 초기화해줌 "
   ]
  },
  {
   "cell_type": "code",
   "execution_count": 208,
   "metadata": {},
   "outputs": [
    {
     "data": {
      "text/plain": [
       "Reviews    0\n",
       "Rating     0\n",
       "dtype: int64"
      ]
     },
     "execution_count": 208,
     "metadata": {},
     "output_type": "execute_result"
    }
   ],
   "source": [
    "Data = pd.concat([clean_reviews, doc['Rating']], axis = 1)\n",
    "Data.isnull().sum()\n",
    "#인덱스를 초기화하여 각각의 데이터프레임을 결합을 하였으며 결측값이 발생하지 않음 \n",
    "#인덱스를 초기화해주지않아서 문제가 발생을 하였다"
   ]
  },
  {
   "cell_type": "code",
   "execution_count": 209,
   "metadata": {},
   "outputs": [
    {
     "data": {
      "text/html": [
       "<div>\n",
       "<style scoped>\n",
       "    .dataframe tbody tr th:only-of-type {\n",
       "        vertical-align: middle;\n",
       "    }\n",
       "\n",
       "    .dataframe tbody tr th {\n",
       "        vertical-align: top;\n",
       "    }\n",
       "\n",
       "    .dataframe thead th {\n",
       "        text-align: right;\n",
       "    }\n",
       "</style>\n",
       "<table border=\"1\" class=\"dataframe\">\n",
       "  <thead>\n",
       "    <tr style=\"text-align: right;\">\n",
       "      <th></th>\n",
       "      <th>Reviews</th>\n",
       "      <th>Rating</th>\n",
       "    </tr>\n",
       "  </thead>\n",
       "  <tbody>\n",
       "    <tr>\n",
       "      <td>0</td>\n",
       "      <td>work well mobil mobil close tower non mobil phone</td>\n",
       "      <td>0</td>\n",
       "    </tr>\n",
       "    <tr>\n",
       "      <td>1</td>\n",
       "      <td>excel</td>\n",
       "      <td>1</td>\n",
       "    </tr>\n",
       "    <tr>\n",
       "      <td>2</td>\n",
       "      <td>spectacular phone hace good perfom like mucho ...</td>\n",
       "      <td>1</td>\n",
       "    </tr>\n",
       "    <tr>\n",
       "      <td>3</td>\n",
       "      <td>phone cheap month n alreadi stop work could do...</td>\n",
       "      <td>0</td>\n",
       "    </tr>\n",
       "    <tr>\n",
       "      <td>4</td>\n",
       "      <td>phone ring volum low even high case fit phone ...</td>\n",
       "      <td>0</td>\n",
       "    </tr>\n",
       "    <tr>\n",
       "      <td>...</td>\n",
       "      <td>...</td>\n",
       "      <td>...</td>\n",
       "    </tr>\n",
       "    <tr>\n",
       "      <td>3217</td>\n",
       "      <td>anoth great deal great price</td>\n",
       "      <td>1</td>\n",
       "    </tr>\n",
       "    <tr>\n",
       "      <td>3218</td>\n",
       "      <td>ok</td>\n",
       "      <td>0</td>\n",
       "    </tr>\n",
       "    <tr>\n",
       "      <td>3219</td>\n",
       "      <td>pass everi drop test onto porcelain tile</td>\n",
       "      <td>1</td>\n",
       "    </tr>\n",
       "    <tr>\n",
       "      <td>3220</td>\n",
       "      <td>return meet need seem good select other</td>\n",
       "      <td>0</td>\n",
       "    </tr>\n",
       "    <tr>\n",
       "      <td>3221</td>\n",
       "      <td>downsid appar verizon longer use v cast music ...</td>\n",
       "      <td>1</td>\n",
       "    </tr>\n",
       "  </tbody>\n",
       "</table>\n",
       "<p>3222 rows × 2 columns</p>\n",
       "</div>"
      ],
      "text/plain": [
       "                                                Reviews Rating\n",
       "0     work well mobil mobil close tower non mobil phone      0\n",
       "1                                                 excel      1\n",
       "2     spectacular phone hace good perfom like mucho ...      1\n",
       "3     phone cheap month n alreadi stop work could do...      0\n",
       "4     phone ring volum low even high case fit phone ...      0\n",
       "...                                                 ...    ...\n",
       "3217                       anoth great deal great price      1\n",
       "3218                                                 ok      0\n",
       "3219           pass everi drop test onto porcelain tile      1\n",
       "3220            return meet need seem good select other      0\n",
       "3221  downsid appar verizon longer use v cast music ...      1\n",
       "\n",
       "[3222 rows x 2 columns]"
      ]
     },
     "execution_count": 209,
     "metadata": {},
     "output_type": "execute_result"
    }
   ],
   "source": [
    "Data"
   ]
  },
  {
   "cell_type": "code",
   "execution_count": 210,
   "metadata": {},
   "outputs": [],
   "source": [
    "train_docs, test_docs = train_test_split(Data, test_size = 0.3)\n",
    "#학습과 테스트를 위해 원본 데이터를 7:3비율로 분할 "
   ]
  },
  {
   "cell_type": "markdown",
   "metadata": {},
   "source": [
    "### TF-IDF"
   ]
  },
  {
   "cell_type": "code",
   "execution_count": 211,
   "metadata": {},
   "outputs": [],
   "source": [
    "from sklearn.feature_extraction.text import TfidfVectorizer\n",
    "from sklearn.feature_selection import SelectKBest\n",
    "from sklearn.feature_selection import f_classif\n",
    "NGRAM_RANGE = (1,2)\n",
    "TOP_K = 2000\n",
    "TOKEN_MODE = 'word'\n",
    "MIN_DOC_FREQ = 2"
   ]
  },
  {
   "cell_type": "code",
   "execution_count": 212,
   "metadata": {},
   "outputs": [],
   "source": [
    "def ngram_vectorize(texts, labels):\n",
    "    kwargs = {\n",
    "        'ngram_range' : NGRAM_RANGE,\n",
    "        'dtype' : 'int32',\n",
    "        'strip_accents' : 'unicode',\n",
    "        'decode_error' : 'replace',\n",
    "        'analyzer' : TOKEN_MODE,\n",
    "        'min_df' : MIN_DOC_FREQ\n",
    "    }\n",
    "    \n",
    "    tfidf_vectorizer = TfidfVectorizer(**kwargs)\n",
    "    transformed_texts = tfidf_vectorizer.fit_transform(texts)\n",
    "    \n",
    "    selector = SelectKBest(f_classif, k = min(TOP_K, transformed_texts.shape[1]))\n",
    "    selector.fit(transformed_texts, labels)\n",
    "    \n",
    "    transformed_texts = selector.transform(transformed_texts).astype('float32')\n",
    "    return transformed_texts\n",
    "#TF -IDF를 변환하기 위한 각각의 파라미터를 조정하였음 "
   ]
  },
  {
   "cell_type": "code",
   "execution_count": 216,
   "metadata": {
    "scrolled": false
   },
   "outputs": [
    {
     "name": "stderr",
     "output_type": "stream",
     "text": [
      "/Users/Moon/opt/anaconda3/lib/python3.7/site-packages/sklearn/feature_extraction/text.py:1616: UserWarning: Only (<class 'numpy.float64'>, <class 'numpy.float32'>, <class 'numpy.float16'>) 'dtype' should be used. int32 'dtype' will be converted to np.float64.\n",
      "  UserWarning)\n"
     ]
    },
    {
     "data": {
      "text/plain": [
       "<2255x2000 sparse matrix of type '<class 'numpy.float32'>'\n",
       "\twith 27418 stored elements in Compressed Sparse Row format>"
      ]
     },
     "execution_count": 216,
     "metadata": {},
     "output_type": "execute_result"
    }
   ],
   "source": [
    "vect_train_data = ngram_vectorize(train_docs['Reviews'], train_docs['Rating'])\n",
    "vect_train_data"
   ]
  },
  {
   "cell_type": "code",
   "execution_count": 217,
   "metadata": {
    "scrolled": false
   },
   "outputs": [
    {
     "name": "stderr",
     "output_type": "stream",
     "text": [
      "/Users/Moon/opt/anaconda3/lib/python3.7/site-packages/sklearn/feature_extraction/text.py:1616: UserWarning: Only (<class 'numpy.float64'>, <class 'numpy.float32'>, <class 'numpy.float16'>) 'dtype' should be used. int32 'dtype' will be converted to np.float64.\n",
      "  UserWarning)\n"
     ]
    },
    {
     "data": {
      "text/plain": [
       "<967x2000 sparse matrix of type '<class 'numpy.float32'>'\n",
       "\twith 13077 stored elements in Compressed Sparse Row format>"
      ]
     },
     "execution_count": 217,
     "metadata": {},
     "output_type": "execute_result"
    }
   ],
   "source": [
    "vect_test_data = ngram_vectorize(test_docs['Reviews'], test_docs['Rating'])\n",
    "vect_test_data"
   ]
  },
  {
   "cell_type": "code",
   "execution_count": 218,
   "metadata": {},
   "outputs": [],
   "source": [
    "rf_X_train = vect_train_data.toarray()\n",
    "rf_y_train = (np.array(train_docs['Rating']))\n",
    "rf_X_test = vect_test_data.toarray()\n",
    "rf_y_test = (np.array(test_docs['Rating']))"
   ]
  },
  {
   "cell_type": "markdown",
   "metadata": {},
   "source": [
    "### Random Forest"
   ]
  },
  {
   "cell_type": "code",
   "execution_count": 219,
   "metadata": {},
   "outputs": [],
   "source": [
    "from sklearn.ensemble import RandomForestClassifier"
   ]
  },
  {
   "cell_type": "code",
   "execution_count": 220,
   "metadata": {
    "scrolled": true
   },
   "outputs": [
    {
     "data": {
      "text/plain": [
       "RandomForestClassifier(bootstrap=True, class_weight=None, criterion='gini',\n",
       "                       max_depth=None, max_features='auto', max_leaf_nodes=None,\n",
       "                       min_impurity_decrease=0.0, min_impurity_split=None,\n",
       "                       min_samples_leaf=1, min_samples_split=2,\n",
       "                       min_weight_fraction_leaf=0.0, n_estimators=100,\n",
       "                       n_jobs=-1, oob_score=False, random_state=2020, verbose=0,\n",
       "                       warm_start=False)"
      ]
     },
     "execution_count": 220,
     "metadata": {},
     "output_type": "execute_result"
    }
   ],
   "source": [
    "forest = RandomForestClassifier(\n",
    "    n_estimators = 100, n_jobs = -1, random_state=2020)\n",
    "forest \n",
    "#데이터가 너무 커서 최적의 파라미터들을 찾기보다는 default로 두는 것이 가장 좋은 선택이라는 판단 "
   ]
  },
  {
   "cell_type": "code",
   "execution_count": 221,
   "metadata": {
    "scrolled": true
   },
   "outputs": [],
   "source": [
    "forest = forest.fit(rf_X_train, rf_y_train)"
   ]
  },
  {
   "cell_type": "code",
   "execution_count": 222,
   "metadata": {},
   "outputs": [],
   "source": [
    "result = forest.predict(rf_X_test)"
   ]
  },
  {
   "cell_type": "code",
   "execution_count": 223,
   "metadata": {
    "scrolled": false
   },
   "outputs": [],
   "source": [
    "rf_y_test = rf_y_test.astype('int64')"
   ]
  },
  {
   "cell_type": "code",
   "execution_count": 225,
   "metadata": {},
   "outputs": [],
   "source": [
    "result = result.astype('int64')"
   ]
  },
  {
   "cell_type": "code",
   "execution_count": 226,
   "metadata": {},
   "outputs": [],
   "source": [
    "def get_clf_eval(y_test, preds):\n",
    "    confusion = confusion_matrix(y_test, preds)\n",
    "    accuracy = accuracy_score(y_test, preds)\n",
    "    precision = precision_score(y_test, preds)\n",
    "    recall = recall_score(y_test, preds)\n",
    "    F1 = f1_score(y_test, preds)\n",
    "    AUC = roc_auc_score(y_test, preds)\n",
    "    print('오차행렬:\\n', confusion)\n",
    "    print('\\n정확도: {:.4f}'.format(accuracy))\n",
    "    print('정밀도: {:.4f}'.format(precision))\n",
    "    print('재현율: {:.4f}'.format(recall))\n",
    "    print('F1: {:.4f}'.format(F1))\n",
    "    print('AUC: {:.4f}'.format(AUC))\n",
    "    #Confusion Matrix, Accuracy, precision, recall, F1, AUC등을 한번에 보여주는 함수를 생성 "
   ]
  },
  {
   "cell_type": "code",
   "execution_count": 227,
   "metadata": {},
   "outputs": [
    {
     "name": "stdout",
     "output_type": "stream",
     "text": [
      "오차행렬:\n",
      " [[ 56 242]\n",
      " [ 54 615]]\n",
      "\n",
      "정확도: 0.6939\n",
      "정밀도: 0.7176\n",
      "재현율: 0.9193\n",
      "F1: 0.8060\n",
      "AUC: 0.5536\n"
     ]
    }
   ],
   "source": [
    "get_clf_eval(rf_y_test, result)\n",
    "#랜덤포레스트모델에서는 재현율은 아주 좋은 성능을 보여주며 f1 score는 재현율에 영향을 받기때문에 높은 값으로 나온것롤 보인다 \n",
    "#하지만 다른 성능지표에서는 그렇게 좋지 못한 성능을 보여주고 있다."
   ]
  },
  {
   "cell_type": "markdown",
   "metadata": {},
   "source": [
    "### XGBOOST"
   ]
  },
  {
   "cell_type": "code",
   "execution_count": 326,
   "metadata": {},
   "outputs": [],
   "source": [
    "import xgboost as xgb \n",
    "from xgboost import plot_importance \n",
    "from sklearn.metrics import confusion_matrix, accuracy_score, precision_score, recall_score\n",
    "from sklearn.metrics import confusion_matrix, f1_score, roc_auc_score\n",
    "from xgboost import XGBClassifier"
   ]
  },
  {
   "cell_type": "code",
   "execution_count": 327,
   "metadata": {},
   "outputs": [],
   "source": [
    "dtrain = xgb.DMatrix(data = rf_X_train, label = rf_y_train)\n",
    "dtest = xgb.DMatrix(data= rf_X_test, label = rf_y_test)\n",
    "\n",
    "#numpy형태의 학습 데이터셋과 테스트 데이터셋을 DMatirx로 변환\n",
    "#xgboost 모델을 학습시키기위해서는 Dmatrix로 변환을 해야하는것 같음 "
   ]
  },
  {
   "cell_type": "code",
   "execution_count": 328,
   "metadata": {},
   "outputs": [],
   "source": [
    "params = {'max_depth' : 4,\n",
    "          'eta' : 0.1,\n",
    "          'objective' : 'binary:logistic',\n",
    "          'eval_metric' : 'logloss',\n",
    "          'early_stoppings' : 30}\n",
    "\n",
    "num_rounds = 100\n",
    "#eta : 학습률 \n",
    "#손실함수 평가지표 : logloss\n",
    "#파라미터를 "
   ]
  },
  {
   "cell_type": "code",
   "execution_count": 329,
   "metadata": {
    "scrolled": true
   },
   "outputs": [
    {
     "name": "stdout",
     "output_type": "stream",
     "text": [
      "[13:04:16] WARNING: /Users/travis/build/dmlc/xgboost/src/learner.cc:480: \n",
      "Parameters: { early_stoppings } might not be used.\n",
      "\n",
      "  This may not be accurate due to some parameters are only used in language bindings but\n",
      "  passed down to XGBoost core.  Or some parameters are not used but slip through this\n",
      "  verification. Please open an issue if you find above cases.\n",
      "\n",
      "\n",
      "[0]\ttrain-logloss:0.66371\teval-logloss:0.68640\n",
      "[1]\ttrain-logloss:0.63909\teval-logloss:0.68041\n",
      "[2]\ttrain-logloss:0.61831\teval-logloss:0.66941\n",
      "[3]\ttrain-logloss:0.60042\teval-logloss:0.66270\n",
      "[4]\ttrain-logloss:0.58357\teval-logloss:0.66270\n",
      "[5]\ttrain-logloss:0.56980\teval-logloss:0.65563\n",
      "[6]\ttrain-logloss:0.55825\teval-logloss:0.65019\n",
      "[7]\ttrain-logloss:0.54613\teval-logloss:0.65111\n",
      "[8]\ttrain-logloss:0.53590\teval-logloss:0.64448\n",
      "[9]\ttrain-logloss:0.52593\teval-logloss:0.64576\n",
      "[10]\ttrain-logloss:0.51775\teval-logloss:0.64241\n",
      "[11]\ttrain-logloss:0.51028\teval-logloss:0.64236\n",
      "[12]\ttrain-logloss:0.50375\teval-logloss:0.63845\n",
      "[13]\ttrain-logloss:0.49666\teval-logloss:0.63955\n",
      "[14]\ttrain-logloss:0.49049\teval-logloss:0.64040\n",
      "[15]\ttrain-logloss:0.48472\teval-logloss:0.63929\n",
      "[16]\ttrain-logloss:0.47959\teval-logloss:0.63654\n",
      "[17]\ttrain-logloss:0.47393\teval-logloss:0.63780\n",
      "[18]\ttrain-logloss:0.46954\teval-logloss:0.63509\n",
      "[19]\ttrain-logloss:0.46462\teval-logloss:0.63691\n",
      "[20]\ttrain-logloss:0.46040\teval-logloss:0.63525\n",
      "[21]\ttrain-logloss:0.45538\teval-logloss:0.63381\n",
      "[22]\ttrain-logloss:0.45100\teval-logloss:0.63575\n",
      "[23]\ttrain-logloss:0.44738\teval-logloss:0.63611\n",
      "[24]\ttrain-logloss:0.44341\teval-logloss:0.63797\n",
      "[25]\ttrain-logloss:0.44012\teval-logloss:0.63656\n",
      "[26]\ttrain-logloss:0.43715\teval-logloss:0.63522\n",
      "[27]\ttrain-logloss:0.43345\teval-logloss:0.63374\n",
      "[28]\ttrain-logloss:0.43020\teval-logloss:0.63249\n",
      "[29]\ttrain-logloss:0.42721\teval-logloss:0.63385\n",
      "[30]\ttrain-logloss:0.42396\teval-logloss:0.63517\n",
      "[31]\ttrain-logloss:0.41929\teval-logloss:0.63391\n",
      "[32]\ttrain-logloss:0.41663\teval-logloss:0.63345\n",
      "[33]\ttrain-logloss:0.41360\teval-logloss:0.63304\n",
      "[34]\ttrain-logloss:0.41103\teval-logloss:0.63463\n",
      "[35]\ttrain-logloss:0.40848\teval-logloss:0.63429\n",
      "[36]\ttrain-logloss:0.40601\teval-logloss:0.63572\n",
      "[37]\ttrain-logloss:0.40366\teval-logloss:0.63615\n",
      "[38]\ttrain-logloss:0.40111\teval-logloss:0.63643\n",
      "[39]\ttrain-logloss:0.39885\teval-logloss:0.63676\n",
      "[40]\ttrain-logloss:0.39679\teval-logloss:0.63682\n",
      "[41]\ttrain-logloss:0.39482\teval-logloss:0.63668\n",
      "[42]\ttrain-logloss:0.39283\teval-logloss:0.63765\n",
      "[43]\ttrain-logloss:0.39073\teval-logloss:0.63740\n",
      "[44]\ttrain-logloss:0.38879\teval-logloss:0.63685\n",
      "[45]\ttrain-logloss:0.38664\teval-logloss:0.63743\n",
      "[46]\ttrain-logloss:0.38495\teval-logloss:0.63664\n",
      "[47]\ttrain-logloss:0.38304\teval-logloss:0.63812\n",
      "[48]\ttrain-logloss:0.38118\teval-logloss:0.63940\n",
      "[49]\ttrain-logloss:0.37895\teval-logloss:0.64058\n",
      "[50]\ttrain-logloss:0.37741\teval-logloss:0.64052\n",
      "[51]\ttrain-logloss:0.37545\teval-logloss:0.63966\n",
      "[52]\ttrain-logloss:0.37370\teval-logloss:0.63935\n",
      "[53]\ttrain-logloss:0.37198\teval-logloss:0.64020\n",
      "[54]\ttrain-logloss:0.37026\teval-logloss:0.64101\n",
      "[55]\ttrain-logloss:0.36840\teval-logloss:0.64112\n",
      "[56]\ttrain-logloss:0.36647\teval-logloss:0.64241\n",
      "[57]\ttrain-logloss:0.36501\teval-logloss:0.64194\n",
      "[58]\ttrain-logloss:0.36304\teval-logloss:0.64180\n",
      "[59]\ttrain-logloss:0.36148\teval-logloss:0.64202\n",
      "[60]\ttrain-logloss:0.36014\teval-logloss:0.64167\n",
      "[61]\ttrain-logloss:0.35827\teval-logloss:0.64113\n",
      "[62]\ttrain-logloss:0.35692\teval-logloss:0.64105\n",
      "[63]\ttrain-logloss:0.35456\teval-logloss:0.64053\n",
      "[64]\ttrain-logloss:0.35322\teval-logloss:0.64056\n",
      "[65]\ttrain-logloss:0.35202\teval-logloss:0.64151\n",
      "[66]\ttrain-logloss:0.35068\teval-logloss:0.64117\n",
      "[67]\ttrain-logloss:0.34943\teval-logloss:0.64127\n",
      "[68]\ttrain-logloss:0.34834\teval-logloss:0.64157\n",
      "[69]\ttrain-logloss:0.34592\teval-logloss:0.64058\n",
      "[70]\ttrain-logloss:0.34466\teval-logloss:0.64158\n",
      "[71]\ttrain-logloss:0.34351\teval-logloss:0.64124\n",
      "[72]\ttrain-logloss:0.34234\teval-logloss:0.64099\n",
      "[73]\ttrain-logloss:0.34080\teval-logloss:0.64093\n",
      "[74]\ttrain-logloss:0.33977\teval-logloss:0.64146\n",
      "[75]\ttrain-logloss:0.33866\teval-logloss:0.64014\n",
      "[76]\ttrain-logloss:0.33740\teval-logloss:0.64042\n",
      "[77]\ttrain-logloss:0.33630\teval-logloss:0.64093\n",
      "[78]\ttrain-logloss:0.33530\teval-logloss:0.64118\n",
      "[79]\ttrain-logloss:0.33431\teval-logloss:0.64107\n",
      "[80]\ttrain-logloss:0.33306\teval-logloss:0.64141\n",
      "[81]\ttrain-logloss:0.33174\teval-logloss:0.64138\n",
      "[82]\ttrain-logloss:0.33074\teval-logloss:0.64209\n",
      "[83]\ttrain-logloss:0.32983\teval-logloss:0.64218\n",
      "[84]\ttrain-logloss:0.32883\teval-logloss:0.64243\n",
      "[85]\ttrain-logloss:0.32781\teval-logloss:0.64213\n",
      "[86]\ttrain-logloss:0.32690\teval-logloss:0.64221\n",
      "[87]\ttrain-logloss:0.32576\teval-logloss:0.64224\n",
      "[88]\ttrain-logloss:0.32457\teval-logloss:0.64207\n",
      "[89]\ttrain-logloss:0.32340\teval-logloss:0.64137\n",
      "[90]\ttrain-logloss:0.32246\teval-logloss:0.64087\n",
      "[91]\ttrain-logloss:0.32121\teval-logloss:0.64109\n",
      "[92]\ttrain-logloss:0.32036\teval-logloss:0.64153\n",
      "[93]\ttrain-logloss:0.31925\teval-logloss:0.64089\n",
      "[94]\ttrain-logloss:0.31832\teval-logloss:0.64164\n",
      "[95]\ttrain-logloss:0.31732\teval-logloss:0.64187\n",
      "[96]\ttrain-logloss:0.31599\teval-logloss:0.64184\n",
      "[97]\ttrain-logloss:0.31523\teval-logloss:0.64204\n",
      "[98]\ttrain-logloss:0.31429\teval-logloss:0.64275\n",
      "[99]\ttrain-logloss:0.31325\teval-logloss:0.64263\n"
     ]
    }
   ],
   "source": [
    "wlist = [(dtrain, 'train'), (dtest, 'eval')]\n",
    "xgb_model = xgb.train(params = params, \n",
    "                      dtrain = dtrain, \n",
    "                      num_boost_round = num_rounds,\n",
    "                      evals = wlist)"
   ]
  },
  {
   "cell_type": "code",
   "execution_count": 362,
   "metadata": {
    "scrolled": true
   },
   "outputs": [],
   "source": [
    "pred_probs = xgb_model.predict(dtest)\n",
    "#예측값을 확률로 출력 "
   ]
  },
  {
   "cell_type": "code",
   "execution_count": 356,
   "metadata": {},
   "outputs": [],
   "source": [
    "preds = [1 if x > 0.4 else 0 for x in pred_probs]"
   ]
  },
  {
   "cell_type": "code",
   "execution_count": 357,
   "metadata": {},
   "outputs": [],
   "source": [
    "def get_clf_eval(y_test, preds):\n",
    "    confusion = confusion_matrix(y_test, preds)\n",
    "    accuracy = accuracy_score(y_test, preds)\n",
    "    precision = precision_score(y_test, preds)\n",
    "    recall = recall_score(y_test, preds)\n",
    "    F1 = f1_score(y_test, preds)\n",
    "    AUC = roc_auc_score(y_test, preds)\n",
    "    print('오차행렬:\\n', confusion)\n",
    "    print('\\n정확도: {:.4f}'.format(accuracy))\n",
    "    print('정밀도: {:.4f}'.format(precision))\n",
    "    print('재현율: {:.4f}'.format(recall))\n",
    "    print('F1: {:.4f}'.format(F1))\n",
    "    print('AUC: {:.4f}'.format(AUC))\n",
    "#Confusion Matrix, Accuracy, precision, recall, F1, AUC등을 한번에 보여주는 함수를 생성 "
   ]
  },
  {
   "cell_type": "code",
   "execution_count": 358,
   "metadata": {
    "scrolled": true
   },
   "outputs": [
    {
     "name": "stdout",
     "output_type": "stream",
     "text": [
      "오차행렬:\n",
      " [[  9 289]\n",
      " [ 10 659]]\n",
      "\n",
      "정확도: 0.6908\n",
      "정밀도: 0.6951\n",
      "재현율: 0.9851\n",
      "F1: 0.8151\n",
      "AUC: 0.5076\n"
     ]
    }
   ],
   "source": [
    "get_clf_eval(rf_y_test, preds)\n",
    "#재현율에서는 아주 높은 값을 보여주고 있지만 나머지값들에 대해서는 좋지 못한 결과를 보여준다\n",
    "#또한 AUC가 0.5정도면 좋지 못한 모델이라는 것을 보여준다"
   ]
  },
  {
   "cell_type": "markdown",
   "metadata": {},
   "source": [
    "### LSTM"
   ]
  },
  {
   "cell_type": "code",
   "execution_count": 236,
   "metadata": {},
   "outputs": [],
   "source": [
    "X_train = rf_X_train\n",
    "y_train = rf_y_train \n",
    "X_test = rf_X_test\n",
    "y_test = rf_y_test"
   ]
  },
  {
   "cell_type": "code",
   "execution_count": 269,
   "metadata": {},
   "outputs": [],
   "source": [
    "from keras.layers import Dense , Input , LSTM , Embedding, Dropout , Activation, GRU, Flatten\n",
    "from keras.layers import Bidirectional, GlobalMaxPool1D\n",
    "from keras.models import Model, Sequential\n",
    "from keras.layers import Convolution1D\n",
    "from keras import initializers, regularizers, constraints, optimizers, layers\n",
    "from tensorflow.keras.callbacks import EarlyStopping, ModelCheckpoint\n",
    "from tensorflow.keras.preprocessing.sequence import pad_sequences"
   ]
  },
  {
   "cell_type": "code",
   "execution_count": 320,
   "metadata": {},
   "outputs": [
    {
     "name": "stdout",
     "output_type": "stream",
     "text": [
      "Model: \"sequential_28\"\n",
      "_________________________________________________________________\n",
      "Layer (type)                 Output Shape              Param #   \n",
      "=================================================================\n",
      "embedding_27 (Embedding)     (None, None, 64)          96000     \n",
      "_________________________________________________________________\n",
      "bidirectional_16 (Bidirectio (None, None, 64)          24832     \n",
      "_________________________________________________________________\n",
      "global_max_pooling1d_14 (Glo (None, 64)                0         \n",
      "_________________________________________________________________\n",
      "dense_42 (Dense)             (None, 20)                1300      \n",
      "_________________________________________________________________\n",
      "dropout_16 (Dropout)         (None, 20)                0         \n",
      "_________________________________________________________________\n",
      "dense_43 (Dense)             (None, 1)                 21        \n",
      "=================================================================\n",
      "Total params: 122,153\n",
      "Trainable params: 122,153\n",
      "Non-trainable params: 0\n",
      "_________________________________________________________________\n"
     ]
    }
   ],
   "source": [
    "embed_size = 64\n",
    "max_features = 1500\n",
    "\n",
    "\n",
    "model = Sequential()\n",
    "model.add(Embedding(max_features, embed_size))\n",
    "model.add(Bidirectional(LSTM(32, return_sequences = True)))\n",
    "model.add(GlobalMaxPool1D())\n",
    "model.add(Dense(20, activation=\"relu\"))\n",
    "model.add(Dropout(0.1))\n",
    "model.add(Dense(1, activation=\"sigmoid\"))\n",
    "model.compile(loss='binary_crossentropy', optimizer='adam', metrics=['accuracy'])\n",
    "\n",
    "model.summary()\n",
    "\n",
    "#6개의 layer로 구성되어 있으며 성능을 좋게 내기 위해 학습 모델 코드를 참조하였음 "
   ]
  },
  {
   "cell_type": "code",
   "execution_count": 359,
   "metadata": {
    "scrolled": false
   },
   "outputs": [
    {
     "name": "stdout",
     "output_type": "stream",
     "text": [
      "Train on 1578 samples, validate on 677 samples\n",
      "Epoch 1/10\n",
      "1578/1578 [==============================] - 3s 2ms/step - loss: 0.6119 - accuracy: 0.7003 - val_loss: 0.6196 - val_accuracy: 0.6898\n",
      "Epoch 2/10\n",
      "1578/1578 [==============================] - 3s 2ms/step - loss: 0.6129 - accuracy: 0.7003 - val_loss: 0.6194 - val_accuracy: 0.6898\n",
      "Epoch 3/10\n",
      "1578/1578 [==============================] - 3s 2ms/step - loss: 0.6117 - accuracy: 0.7003 - val_loss: 0.6195 - val_accuracy: 0.6898\n",
      "Epoch 4/10\n",
      "1578/1578 [==============================] - 3s 2ms/step - loss: 0.6110 - accuracy: 0.7003 - val_loss: 0.6198 - val_accuracy: 0.6898\n",
      "Epoch 5/10\n",
      "1578/1578 [==============================] - 3s 2ms/step - loss: 0.6106 - accuracy: 0.7003 - val_loss: 0.6200 - val_accuracy: 0.6898\n",
      "Epoch 6/10\n",
      "1578/1578 [==============================] - 3s 2ms/step - loss: 0.6120 - accuracy: 0.7003 - val_loss: 0.6193 - val_accuracy: 0.6898\n",
      "Epoch 7/10\n",
      "1578/1578 [==============================] - 3s 2ms/step - loss: 0.6100 - accuracy: 0.7003 - val_loss: 0.6193 - val_accuracy: 0.6898\n",
      "Epoch 8/10\n",
      "1578/1578 [==============================] - 3s 2ms/step - loss: 0.6103 - accuracy: 0.6996 - val_loss: 0.6193 - val_accuracy: 0.6898\n",
      "Epoch 9/10\n",
      "1578/1578 [==============================] - 3s 2ms/step - loss: 0.6117 - accuracy: 0.7003 - val_loss: 0.6193 - val_accuracy: 0.6898\n",
      "Epoch 10/10\n",
      "1578/1578 [==============================] - 3s 2ms/step - loss: 0.6110 - accuracy: 0.7003 - val_loss: 0.6194 - val_accuracy: 0.6898\n"
     ]
    },
    {
     "data": {
      "text/plain": [
       "<keras.callbacks.callbacks.History at 0x166317c50>"
      ]
     },
     "execution_count": 359,
     "metadata": {},
     "output_type": "execute_result"
    }
   ],
   "source": [
    "batch_size = 256\n",
    "epochs = 10\n",
    "model.fit(X_train,y_train, batch_size=batch_size, epochs=epochs, validation_split=0.3)\n",
    "#Validation set을 train셋에서 30%를 두고 학습을 진행 "
   ]
  },
  {
   "cell_type": "code",
   "execution_count": 360,
   "metadata": {
    "scrolled": true
   },
   "outputs": [
    {
     "name": "stdout",
     "output_type": "stream",
     "text": [
      "967/967 [==============================] - 1s 623us/step\n"
     ]
    }
   ],
   "source": [
    "score, acc =model.evaluate(X_test, y_test, batch_size = batch_size)"
   ]
  },
  {
   "cell_type": "code",
   "execution_count": 361,
   "metadata": {},
   "outputs": [
    {
     "name": "stdout",
     "output_type": "stream",
     "text": [
      "Test Score: 0.6171910514382813\n",
      "Test Accuracy: 0.6918303966522217\n"
     ]
    }
   ],
   "source": [
    "print('Test Score:' , score)\n",
    "print('Test Accuracy:' , acc)\n",
    "#69.18%의 정확도를 보여주고 있으며 좋지못한 성능을 보여준다 \n",
    "#추후 성능을 올릴방법을 찾아서 성능을 올릴예정"
   ]
  },
  {
   "cell_type": "code",
   "execution_count": null,
   "metadata": {},
   "outputs": [],
   "source": []
  }
 ],
 "metadata": {
  "kernelspec": {
   "display_name": "Python 3",
   "language": "python",
   "name": "python3"
  },
  "language_info": {
   "codemirror_mode": {
    "name": "ipython",
    "version": 3
   },
   "file_extension": ".py",
   "mimetype": "text/x-python",
   "name": "python",
   "nbconvert_exporter": "python",
   "pygments_lexer": "ipython3",
   "version": "3.7.4"
  }
 },
 "nbformat": 4,
 "nbformat_minor": 2
}
